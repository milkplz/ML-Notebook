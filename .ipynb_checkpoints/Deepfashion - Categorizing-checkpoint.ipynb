{
 "cells": [
  {
   "cell_type": "code",
   "execution_count": 1,
   "metadata": {
    "scrolled": true
   },
   "outputs": [
    {
     "name": "stderr",
     "output_type": "stream",
     "text": [
      "/Users/luke/.pyenv/versions/3.6.3/envs/py36/lib/python3.6/site-packages/h5py/__init__.py:36: FutureWarning: Conversion of the second argument of issubdtype from `float` to `np.floating` is deprecated. In future, it will be treated as `np.float64 == np.dtype(float).type`.\n",
      "  from ._conv import register_converters as _register_converters\n",
      "Using TensorFlow backend.\n",
      "/Users/luke/.pyenv/versions/3.6.3/lib/python3.6/importlib/_bootstrap.py:219: RuntimeWarning: compiletime version 3.5 of module 'tensorflow.python.framework.fast_tensor_util' does not match runtime version 3.6\n",
      "  return f(*args, **kwds)\n"
     ]
    }
   ],
   "source": [
    "import os\n",
    "import sys\n",
    "import random\n",
    "import math\n",
    "import numpy as np\n",
    "import skimage.io\n",
    "import keras\n",
    "\n",
    "import matplotlib.pyplot as plt\n",
    "import math as mt\n",
    "\n",
    "from keras.models import Sequential\n",
    "from keras.layers import Dense , Dropout , Flatten\n",
    "from keras.layers import MaxPooling2D\n",
    "from keras.layers.convolutional import Conv2D\n",
    "from keras.callbacks import EarlyStopping, ModelCheckpoint\n",
    "from keras.utils.np_utils import to_categorical\n",
    "from keras.constraints import maxnorm\n",
    "from keras.optimizers import SGD\n",
    "from keras import backend as K\n",
    "K.set_image_dim_ordering('th')\n",
    "\n",
    "# Root directory of the project\n",
    "ROOT_DIR = os.getcwd()\n",
    "DEEPFASHION_DATA_DIR = os.path.join(ROOT_DIR, \"fashion_data\")\n"
   ]
  },
  {
   "cell_type": "markdown",
   "metadata": {},
   "source": [
    "# Load Originnal Data\n",
    "Deepfashion dataset에서 category, imagepath, bbox 데이타를 load한다."
   ]
  },
  {
   "cell_type": "code",
   "execution_count": 40,
   "metadata": {},
   "outputs": [
    {
     "name": "stdout",
     "output_type": "stream",
     "text": [
      "img/Sheer_Pleated-Front_Blouse/img_00000001.jpg 3.0 [ 72.  79. 232. 273.]\n"
     ]
    }
   ],
   "source": [
    "# category\n",
    "val_category = np.genfromtxt(os.path.join(DEEPFASHION_DATA_DIR, \"Anno\", \"list_category_img.txt\"))\n",
    "# string과 number가 섞여 있기 때문에 첫번째 인자가 non으로 오므로 삭제한다.\n",
    "val_category = np.delete(val_category, 0, 1)\n",
    "# 2차 Array를 1차 Array로 만들어준다.\n",
    "val_category = val_category.flatten()\n",
    "\n",
    "\n",
    "# bbox\n",
    "val_bbox = np.genfromtxt(os.path.join(DEEPFASHION_DATA_DIR, \"Anno\", \"list_bbox.txt\"))\n",
    "# string과 number가 섞여 있기 때문에 첫번째 인자가 non으로 오므로 삭제한다.\n",
    "val_bbox = np.delete(val_bbox, 0, 1)\n",
    "# 2차 Array를 1차 Array로 만들어준다.\n",
    "# val_bbox = val_bbox.flatten()\n",
    "\n",
    "# image path\n",
    "val_imagepath = []\n",
    "with open(os.path.join(DEEPFASHION_DATA_DIR, \"Anno\", \"list_category_img.txt\")) as list_category_img:\n",
    "    for row in list_category_img:\n",
    "        imagepath=row.strip()[:-1].strip().replace(' ', '_')\n",
    "        val_imagepath.append(imagepath)\n",
    "        \n",
    "print(val_imagepath[0], val_category[0], val_bbox[0])"
   ]
  },
  {
   "cell_type": "markdown",
   "metadata": {},
   "source": [
    "# Make Dataset for ML\n",
    "Load한 data들의 Array를 하나의 Array로 합친다.\n",
    "shuffle한다.\n",
    "\n",
    "training set과 검증 셋으로 나눈다.\n",
    "x_train, y_train, x_val, y_val 으로 저장한다."
   ]
  },
  {
   "cell_type": "code",
   "execution_count": null,
   "metadata": {},
   "outputs": [],
   "source": []
  },
  {
   "cell_type": "code",
   "execution_count": null,
   "metadata": {},
   "outputs": [],
   "source": []
  }
 ],
 "metadata": {
  "kernelspec": {
   "display_name": "Python 3",
   "language": "python",
   "name": "python3"
  },
  "language_info": {
   "codemirror_mode": {
    "name": "ipython",
    "version": 3
   },
   "file_extension": ".py",
   "mimetype": "text/x-python",
   "name": "python",
   "nbconvert_exporter": "python",
   "pygments_lexer": "ipython3",
   "version": "3.6.3"
  }
 },
 "nbformat": 4,
 "nbformat_minor": 2
}
